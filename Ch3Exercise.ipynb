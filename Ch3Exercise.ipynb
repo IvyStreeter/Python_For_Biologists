{
 "cells": [
  {
   "cell_type": "markdown",
   "metadata": {},
   "source": [
    "# <b> Splitting genomic DNA </b>\n",
    "\n",
    "Look in the chapter_3 folder for a file called genomic_dna.txt – it contains the same piece of genomic DNA that we were using in the final exercise from chapter 2. Write a program that will split the genomic DNA into coding and non-coding parts, and write these sequences to two separate files.\n",
    "\n",
    "<b> Hint:</b> use your solution to the last exercise from chapter 2 as a starting point. \n"
   ]
  },
  {
   "cell_type": "code",
   "execution_count": null,
   "metadata": {},
   "outputs": [],
   "source": []
  },
  {
   "cell_type": "markdown",
   "metadata": {},
   "source": [
    "# <b> Writing a FASTA file </b>\n",
    "\n",
    "FASTA file format is a commonly-used DNA and protein sequence file format. A single sequence in FASTA format looks like this:\n",
    "\n",
    "```\n",
    " >sequence_name\n",
    " ATCGACTGATCGATCGTACGAT\n",
    "```\n",
    "\n",
    "Where sequence_name is a header that describes the sequence (the greater-than symbol indicates the start of the header line). Often, the header contains an accession number that relates to the record for the sequence in a public sequence database. A single FASTA file can contain multiple sequences, like this:\n",
    "\n",
    "```\n",
    " >sequence_one\n",
    " ATCGATCGATCGATCGAT\n",
    " >sequence_two\n",
    " ACTAGCTAGCTAGCATCG\n",
    " >sequence_three\n",
    " ACTGCATCGATCGTACCT\n",
    "```"
   ]
  },
  {
   "cell_type": "code",
   "execution_count": null,
   "metadata": {},
   "outputs": [],
   "source": []
  }
 ],
 "metadata": {
  "language_info": {
   "name": "python"
  }
 },
 "nbformat": 4,
 "nbformat_minor": 2
}
