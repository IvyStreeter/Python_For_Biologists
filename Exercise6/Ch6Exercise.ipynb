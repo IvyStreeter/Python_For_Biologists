{
 "cells": [
  {
   "cell_type": "markdown",
   "metadata": {},
   "source": [
    "# Chapter 6\n",
    "Conditional tests"
   ]
  },
  {
   "cell_type": "markdown",
   "metadata": {},
   "source": [
    "# <b> Exercises </b>\n",
    "\n",
    "In the chapter_6 folder in the exercises download, you'll find a text file called data.csv, containing some made-up data for a number of genes. Each line contains the following fields for a single gene in this order: \n",
    "- species name\n",
    "- sequence\n",
    "- gene name\n",
    "- expression level\n",
    " \n",
    "The fields are separated by commas (hence the name of the file – csv stands for Comma Separated Values). Think of it as a representation of a table in a spreadsheet – each line is a row, and each field in a line is a column. All the exercises for this chapter use the data read from this file.\n",
    "\n",
    "<b> Reminder: </b> if you're using Python 2 rather than Python 3, include this line at the top of your programs:"
   ]
  },
  {
   "cell_type": "markdown",
   "metadata": {},
   "source": [
    "# <b> Several species </b>\n",
    "Print out the gene names for all genes belonging to Drosophila melanogaster or Drosophila simulans."
   ]
  },
  {
   "cell_type": "code",
   "execution_count": 1,
   "metadata": {},
   "outputs": [
    {
     "name": "stdout",
     "output_type": "stream",
     "text": [
      "kdy647\n",
      "jdg766\n",
      "kdy533\n"
     ]
    }
   ],
   "source": [
    "data = open(\"../ExerciseAnswers/conditional_tests/exercises/data.csv\")\n",
    "data_read = data.read().rstrip(\"\\n\")\n",
    "\n",
    "data_list = data_read.rsplit('\\n')\n",
    "\n",
    "for line in data_list:\n",
    "    if line.startswith(\"Drosophila melanogaster\") or line.startswith(\"Drosophila simulans\"):\n",
    "        line = line.rsplit(\",\")\n",
    "        print(line[2])"
   ]
  },
  {
   "cell_type": "markdown",
   "metadata": {},
   "source": [
    "# <b> Length range </b>\n",
    "Print out the gene names for all genes between 90 and 110 bases long.\n"
   ]
  },
  {
   "cell_type": "code",
   "execution_count": 2,
   "metadata": {},
   "outputs": [
    {
     "name": "stdout",
     "output_type": "stream",
     "text": [
      "kdy647\n",
      "teg436\n"
     ]
    }
   ],
   "source": [
    "for line in data_list:\n",
    "    line = line.rsplit(\",\")\n",
    "    if len(line[1]) > 90 and len(line[1]) < 110:\n",
    "        print(line[2])"
   ]
  },
  {
   "cell_type": "markdown",
   "metadata": {},
   "source": [
    "# <b> AT content </b>\n",
    "\n",
    "Print out the gene names for all genes whose AT content is less than 0.5 and whose expression level is greater than 200.  "
   ]
  },
  {
   "cell_type": "code",
   "execution_count": 3,
   "metadata": {},
   "outputs": [
    {
     "name": "stdout",
     "output_type": "stream",
     "text": [
      "teg436\n"
     ]
    }
   ],
   "source": [
    "def at_content(sequence, sigfigs=2):\n",
    "    a_content = sequence.upper().count('A')\n",
    "    t_content = sequence.upper().count('T')\n",
    "    total_percent = ((a_content + t_content) / len(sequence))\n",
    "    return round(total_percent, sigfigs)\n",
    "\n",
    "for line in data_list:\n",
    "    line = line.rsplit(\",\")\n",
    "    if at_content(line[1]) < 0.5 and int(line[3]) > 200:\n",
    "        print((line[2]))"
   ]
  },
  {
   "cell_type": "markdown",
   "metadata": {},
   "source": [
    "# <b> Complex condition </b>\n",
    "Print out the gene names for all genes whose name begins with \"k\" or \"h\" except those belonging to Drosophila melanogaster.\n"
   ]
  },
  {
   "cell_type": "code",
   "execution_count": 4,
   "metadata": {},
   "outputs": [
    {
     "name": "stdout",
     "output_type": "stream",
     "text": [
      "['Drosophila simulans', 'atcgatcatgtcgatcgatgatgcatccgactatcgtcgatcgtgatcgatcgatcgatcatcgatcgatgtcgatcatgtcgatatcgt', 'kdy533', '485']\n",
      "['Drosophila yakuba', 'cgcgcgctcgcgcatacggcctaatgcgcgcgctagcgatgc', 'hdt739', '85']\n",
      "['Drosophila ananassae', 'ttacgatcgatcgatcgatcgatcgtcgatcgtcgatgctacatcgatcatcatcggattagtcacatcgatcgatcatcgactgatcgtcgatcgtagatgctgacatcgatagca', 'hdu045', '356']\n"
     ]
    }
   ],
   "source": [
    "for line in data_list:\n",
    "    line = line.rsplit(\",\")\n",
    "    if line[0] != 'Drosophila melanogaster' and (line[2].startswith('k') or line[2].startswith('h')):\n",
    "        print((line))"
   ]
  },
  {
   "cell_type": "markdown",
   "metadata": {},
   "source": [
    "# <b> High low medium </b>\n",
    "\n",
    "For each gene, print out a message giving the gene name and saying whether its AT content is high (greater than 0.65), low (less than 0.45) or medium (between 0.45 and 0.65)."
   ]
  },
  {
   "cell_type": "code",
   "execution_count": 5,
   "metadata": {},
   "outputs": [
    {
     "name": "stdout",
     "output_type": "stream",
     "text": [
      "kdy647 AT content is high: 0.72\n",
      "jdg766 AT content is medium (between 0.45 and 0.65): 0.56\n",
      "kdy533 AT content is medium (between 0.45 and 0.65): 0.53\n",
      "hdt739 AT content is low: 0.29\n",
      "hdu045 AT content is medium (between 0.45 and 0.65): 0.53\n",
      "teg436 AT content is medium (between 0.45 and 0.65): 0.46\n"
     ]
    }
   ],
   "source": [
    "def at_content(sequence, sigfigs=2):\n",
    "    a_content = sequence.upper().count('A')\n",
    "    t_content = sequence.upper().count('T')\n",
    "    total_percent = ((a_content + t_content) / len(sequence))\n",
    "    return round(total_percent, sigfigs)\n",
    "\n",
    "for line in data_list:\n",
    "    line = line.rsplit(\",\")\n",
    "    if at_content(line[1]) > 0.65:\n",
    "        print(str(line[2]) + \" AT content is high: \" + str(at_content(line[1])))\n",
    "    elif at_content(line[1]) < 0.45:\n",
    "        print(str(line[2]) + \" AT content is low: \" + str(at_content(line[1])))\n",
    "    else:\n",
    "        print(str(line[2]) + \" AT content is medium (between 0.45 and 0.65): \" + str(at_content(line[1])))"
   ]
  }
 ],
 "metadata": {
  "kernelspec": {
   "display_name": "Python 3",
   "language": "python",
   "name": "python3"
  },
  "language_info": {
   "codemirror_mode": {
    "name": "ipython",
    "version": 3
   },
   "file_extension": ".py",
   "mimetype": "text/x-python",
   "name": "python",
   "nbconvert_exporter": "python",
   "pygments_lexer": "ipython3",
   "version": "3.11.5"
  }
 },
 "nbformat": 4,
 "nbformat_minor": 2
}
