{
 "cells": [
  {
   "cell_type": "markdown",
   "metadata": {},
   "source": [
    "# Chapter 1\n",
    "Chapter 1 was about introducing the environment\n",
    "\n",
    "# Chapter 2\n",
    "This chapter focuses on printing and manipulating text"
   ]
  },
  {
   "cell_type": "markdown",
   "metadata": {},
   "source": [
    "# <b> Calculating AT content </b>\n",
    "\n",
    "Here's a short DNA sequence:\n",
    "\n",
    ">ACTGATCGATTACGTATAGTATTTGCTATCATACATATATATCGATGCGTTCAT\n",
    "\n",
    "Write a program that will print out the AT content of this DNA sequence. \n",
    "\n",
    "<b> Hint:</b> you can use normal mathematical symbols like add (+), subtract (-), multiply (*), divide (/) and parentheses to carry out calculations on numbers in Python.\n",
    "Reminder: if you're using Python 2 rather than Python 3, include this line at the top of your program:\n",
    "> from __future__ import division\n"
   ]
  },
  {
   "cell_type": "code",
   "execution_count": 1,
   "metadata": {},
   "outputs": [
    {
     "name": "stdout",
     "output_type": "stream",
     "text": [
      "This is the total AT content of the DNA sequence : 68.51851851851852%\n"
     ]
    }
   ],
   "source": [
    "sequence = \"ACTGATCGATTACGTATAGTATTTGCTATCATACATATATATCGATGCGTTCAT\"\n",
    "AT_Total = (str(sequence).count('A') + str(sequence).count('T')) / len(sequence)\n",
    "print(\"This is the total AT content of the DNA sequence : \" + str(AT_Total*100) +\"%\")"
   ]
  },
  {
   "cell_type": "markdown",
   "metadata": {},
   "source": [
    "# <b> Complementing DNA </b>\n",
    "\n",
    "Here's a short DNA sequence:\n",
    "\n",
    "> ACTGATCGATTACGTATAGTATTTGCTATCATACATATATATCGATGCGTTCAT\n",
    "\n",
    "Write a program that will print the complement of this sequence."
   ]
  },
  {
   "cell_type": "code",
   "execution_count": 2,
   "metadata": {},
   "outputs": [
    {
     "name": "stdout",
     "output_type": "stream",
     "text": [
      "This is the sequence: ACTGATCGATTACGTATAGTATTTGCTATCATACATATATATCGATGCGTTCAT\n",
      "This is the complement: TGACTAGCTAATGCATATCATAAACGATAGTATGTATATATAGCTACGCAAGTA\n"
     ]
    }
   ],
   "source": [
    "sequence = \"ACTGATCGATTACGTATAGTATTTGCTATCATACATATATATCGATGCGTTCAT\"\n",
    "\n",
    "# By using a temp value, the original sequence does not get lost\n",
    "sequence1 = (sequence.replace(\"A\", \"temp1\")).replace(\"T\", \"temp2\").replace(\"C\", \"temp3\").replace(\"G\",\"temp4\")\n",
    "complement = (sequence1.replace(\"temp1\", \"T\")).replace(\"temp2\", \"A\").replace(\"temp3\",\"G\").replace(\"temp4\",\"C\")\n",
    "\n",
    "print(\"This is the sequence: \" +str(sequence))\n",
    "print(\"This is the complement: \" +str(complement))"
   ]
  },
  {
   "cell_type": "markdown",
   "metadata": {},
   "source": [
    "# <b> Restriction fragment lengths </b>\n",
    "\n",
    "Here's a short DNA sequence:\n",
    "\n",
    "> ACTGATCGATTACGTATAGTAGAATTCTATCATACATATATATCGATGCGTTCAT\n",
    "\n",
    "The sequence contains a recognition site for the EcoRI restriction enzyme, which cuts at the motif G*AATTC (the position of the cut is indicated by an asterisk). Write a program which will calculate the size of the two fragments that will be produced when the DNA sequence is digested with EcoRI."
   ]
  },
  {
   "cell_type": "code",
   "execution_count": 3,
   "metadata": {},
   "outputs": [
    {
     "name": "stdout",
     "output_type": "stream",
     "text": [
      "Total length of sequence is: 55\n",
      "Sequence starts at cut site at position: 22\n",
      "The length after position 22 is 33\n",
      "The length before position 22 is 22\n"
     ]
    }
   ],
   "source": [
    "sequence = \"ACTGATCGATTACGTATAGTAGAATTCTATCATACATATATATCGATGCGTTCAT\"\n",
    "print(\"Total length of sequence is: \" + str(len(sequence)))\n",
    "\n",
    "print(\"Sequence starts at cut site at position: \" + str (sequence.find('AATTC')))\n",
    "\n",
    "print(\"The length after position \" + str (sequence.find('AATTC')) + \" is \" + \n",
    "      str(len(sequence[22:])))\n",
    "\n",
    "print(\"The length before position \" + str (sequence.find('AATTC')) + \" is \" + \n",
    "      str(len(sequence[:22]))) "
   ]
  },
  {
   "cell_type": "markdown",
   "metadata": {},
   "source": [
    "# <b> Splicing out introns, part one </b>\n",
    "\n",
    "\n",
    "Here's a short section of genomic DNA:\n",
    "> ATCGATCGATCGATCGACTGACTAGTCATAGCTATGCATGTAGCTACTCGATCGATCGA TCGATCGATCGATCGATCGATCGATCATGCTATCATCGATCGATATCGATGCATCGACTACTAT\n",
    "\n",
    "It comprises two exons and an intron. The first exon runs from the start of the sequence to the sixty-third character, and the second exon runs from the ninety- first character to the end of the sequence. Write a program that will print just the coding regions of the DNA sequence."
   ]
  },
  {
   "cell_type": "code",
   "execution_count": 4,
   "metadata": {},
   "outputs": [
    {
     "name": "stdout",
     "output_type": "stream",
     "text": [
      "ATCGATCGATCGATCGACTGACTAGTCATAGCTATGCATGTAGCTACTCGATCGATCGATCGATCATCGATCGATATCGATGCATCGACTACTAT\n"
     ]
    }
   ],
   "source": [
    "sequence = \"ATCGATCGATCGATCGACTGACTAGTCATAGCTATGCATGTAGCTACTCGATCGATCGATCGATCGATCGATCGATCGATCGATCATGCTATCATCGATCGATATCGATGCATCGACTACTAT\"\n",
    "\n",
    "# Python starts counting from 0, every position in english is position + 1 \n",
    "\n",
    "exon1 = sequence[0:62]\n",
    "exon2 = sequence[90:]\n",
    "\n",
    "coding_region = exon1 + exon2\n",
    "\n",
    "print(coding_region)"
   ]
  },
  {
   "cell_type": "markdown",
   "metadata": {},
   "source": [
    "# <b> Splicing out introns, part two </b>\n",
    "\n",
    "Using the data from part one, write a program that will calculate what percentage of the DNA sequence is coding.\n",
    "\n",
    "<b> Reminder: </b> if you're using Python 2 rather than Python 3, include this line at the top of your program:\n"
   ]
  },
  {
   "cell_type": "code",
   "execution_count": 5,
   "metadata": {},
   "outputs": [
    {
     "name": "stdout",
     "output_type": "stream",
     "text": [
      "The percent of the coding DNA is: 77.23577235772358%\n"
     ]
    }
   ],
   "source": [
    "percentage = (len(coding_region) / len(sequence))*100\n",
    "print(\"The percent of the coding DNA is: \" +str(percentage) + \"%\")"
   ]
  },
  {
   "cell_type": "markdown",
   "metadata": {},
   "source": [
    "# <b> Splicing out introns, part three </b>\n",
    "\n",
    "Using the data from part one, write a program that will print out the original genomic DNA sequence with coding bases in uppercase and non-coding bases in lowercase."
   ]
  },
  {
   "cell_type": "code",
   "execution_count": 6,
   "metadata": {},
   "outputs": [
    {
     "name": "stdout",
     "output_type": "stream",
     "text": [
      "ATCGATCGATCGATCGACTGACTAGTCATAGCTATGCATGTAGCTACTCGATCGATCGATCGatcgatcgatcgatcgatcgatcatgctATCATCGATCGATATCGATGCATCGACTACTAT\n"
     ]
    }
   ],
   "source": [
    "sequence_case = sequence.lower()\n",
    "\n",
    "sequence_case = sequence_case.replace(exon1.lower(), exon1.upper()).replace(exon2.lower(), exon2.upper())\n",
    "print(sequence_case)"
   ]
  }
 ],
 "metadata": {
  "kernelspec": {
   "display_name": "Python 3",
   "language": "python",
   "name": "python3"
  },
  "language_info": {
   "codemirror_mode": {
    "name": "ipython",
    "version": 3
   },
   "file_extension": ".py",
   "mimetype": "text/x-python",
   "name": "python",
   "nbconvert_exporter": "python",
   "pygments_lexer": "ipython3",
   "version": "3.11.5"
  }
 },
 "nbformat": 4,
 "nbformat_minor": 2
}
