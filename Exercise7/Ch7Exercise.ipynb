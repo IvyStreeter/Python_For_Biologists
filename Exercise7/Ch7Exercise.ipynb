{
 "cells": [
  {
   "cell_type": "markdown",
   "metadata": {},
   "source": [
    "# Regular Expressions\n",
    "\n",
    "accounting for variation\n",
    "\n",
    "- ```[^XXX]``` means negate characters in the expression \n",
    "  - [^ABC]\n",
    "- ```(X|X|)``` means either of the characters\n",
    "- ```.``` means any\n",
    "  - [A|T|C|G]\n",
    "- ```?``` after a character or grouped characters in parenthesis means match 0 or 1 time\n",
    "  - AAT?CCC -> AATCCC or AACCC\n",
    "- ```+``` means it will match one or more times\n",
    "  - AAT+CCC -> AATCCC or AATTCCC or AATTTCCC etc\n",
    "- ```*``` means it will match 0 or more times\n",
    "  - AAT*CCC 0-> AACCC or AATCCC or AATTCCC etc\n",
    "- ```{number}``` after a letter will match number of times\n",
    "  - AAT{3}CCC -> AATTTCCC\n",
    "- ```{number1, number2}``` it will match that range \n",
    "  - AAT{2,3}CCC -> AATTCCC or AATTTCCC or AATTTCCC\n",
    "- ```^AAA``` means find pattern at start of string\n",
    "- ```AAA$``` means find pattern at end of string"
   ]
  },
  {
   "cell_type": "markdown",
   "metadata": {},
   "source": [
    "# Exercises\n",
    "# <b> Accession names </b>\n",
    "\n",
    "Here's a list of made-up gene accession names:\n",
    "- xkn59438, yhdck2, eihd39d9, chdsye847, hedle3455, xjhd53e, 45da, de37dp\n",
    "\n",
    "Write a program that will print only the accession names that satisfy the following criteria – treat each criterion separately:\n",
    "- contain the number 5\n",
    "- contain the letter d or e\n",
    "- contain the letters d and e in that order\n",
    "- contain the letters d and e in that order with a single letter between them\n",
    "- contain both the letters d and e in any order\n",
    "- start with x or y\n",
    "- start with x or y and end with e\n",
    "- contain three or more numbers in a row\n",
    "- end with d followed by either a, r or p\n"
   ]
  },
  {
   "cell_type": "code",
   "execution_count": 1,
   "metadata": {},
   "outputs": [
    {
     "name": "stdout",
     "output_type": "stream",
     "text": [
      "xkn59438\n",
      "hedle3455\n",
      "xjhd53e\n",
      "45da\n"
     ]
    }
   ],
   "source": [
    "import re\n",
    "accessions = ['xkn59438', 'yhdck2', 'eihd39d9', 'chdsye847', 'hedle3455', 'xjhd53e', '45da', 'de37dp']\n",
    "\n",
    "# Contain the number 5\n",
    "for acc in accessions:\n",
    "    run = re.search(r\"5\",acc)\n",
    "    if run:\n",
    "        print(acc)"
   ]
  },
  {
   "cell_type": "code",
   "execution_count": 2,
   "metadata": {},
   "outputs": [
    {
     "name": "stdout",
     "output_type": "stream",
     "text": [
      "yhdck2\n",
      "eihd39d9\n",
      "chdsye847\n",
      "hedle3455\n",
      "xjhd53e\n",
      "45da\n",
      "de37dp\n"
     ]
    }
   ],
   "source": [
    "# Contain the letter d or e\n",
    "for acc in accessions:\n",
    "    run = re.search(r\"d|e\",acc)\n",
    "    if run:\n",
    "        print(acc)"
   ]
  },
  {
   "cell_type": "code",
   "execution_count": 3,
   "metadata": {},
   "outputs": [
    {
     "name": "stdout",
     "output_type": "stream",
     "text": [
      "chdsye847\n",
      "hedle3455\n",
      "xjhd53e\n",
      "de37dp\n"
     ]
    }
   ],
   "source": [
    "# Contain the letters d and e in that order\n",
    "for acc in accessions:\n",
    "    run = re.search(r\"d.*e\",acc)\n",
    "    if run:\n",
    "        print(acc)"
   ]
  },
  {
   "cell_type": "code",
   "execution_count": 4,
   "metadata": {},
   "outputs": [
    {
     "name": "stdout",
     "output_type": "stream",
     "text": [
      "hedle3455\n"
     ]
    }
   ],
   "source": [
    "# Contain the number d and e in the order with a single letter in between\n",
    "for acc in accessions:\n",
    "    run = re.search(r\"d.e\",acc)\n",
    "    if run:\n",
    "        print(acc)"
   ]
  },
  {
   "cell_type": "code",
   "execution_count": 5,
   "metadata": {},
   "outputs": [
    {
     "name": "stdout",
     "output_type": "stream",
     "text": [
      "hedle3455\n",
      "de37dp\n"
     ]
    }
   ],
   "source": [
    "# contain both the letters d and e in any order\n",
    "for acc in accessions:\n",
    "    run = re.search(r\"d.*e\",acc)\n",
    "    run2 = re.search(r\"e.*d\",acc)\n",
    "    if run and run2:\n",
    "        print(acc)"
   ]
  },
  {
   "cell_type": "code",
   "execution_count": 6,
   "metadata": {},
   "outputs": [
    {
     "name": "stdout",
     "output_type": "stream",
     "text": [
      "xkn59438\n",
      "yhdck2\n",
      "xjhd53e\n"
     ]
    }
   ],
   "source": [
    "# start with x or y\n",
    "for acc in accessions:\n",
    "    run = re.search(r\"^[x|y]\",acc)\n",
    "    if run:\n",
    "        print(acc)"
   ]
  },
  {
   "cell_type": "code",
   "execution_count": 7,
   "metadata": {},
   "outputs": [
    {
     "name": "stdout",
     "output_type": "stream",
     "text": [
      "xjhd53e\n"
     ]
    }
   ],
   "source": [
    "# start with x or y and end with e\n",
    "for acc in accessions:\n",
    "    run = re.search(r\"^(x|y).*e$\",acc)\n",
    "    if run:\n",
    "        print(acc)"
   ]
  },
  {
   "cell_type": "code",
   "execution_count": 8,
   "metadata": {},
   "outputs": [
    {
     "name": "stdout",
     "output_type": "stream",
     "text": [
      "xkn59438\n",
      "chdsye847\n",
      "hedle3455\n"
     ]
    }
   ],
   "source": [
    "# contain three or more numbers in a row\n",
    "for acc in accessions:\n",
    "    run = re.search(r\"\\d{3,}\",acc)\n",
    "    if run:\n",
    "        print(acc)"
   ]
  },
  {
   "cell_type": "code",
   "execution_count": 9,
   "metadata": {},
   "outputs": [
    {
     "name": "stdout",
     "output_type": "stream",
     "text": [
      "45da\n",
      "de37dp\n"
     ]
    }
   ],
   "source": [
    "# end with d followed by either a, r or p\n",
    "for acc in accessions:\n",
    "    run = re.search(r\"d(a|r|p)$\",acc)\n",
    "    if run:\n",
    "        print(acc)"
   ]
  },
  {
   "cell_type": "markdown",
   "metadata": {},
   "source": [
    "# <b> Double digest </b>\n",
    "\n",
    "In the chapter_7 file inside the exercises download, there's a file called dna.txt which contains a made-up DNA sequence. \n",
    "\n",
    "Predict the fragment lengths that we will get if we digest the sequence with two made-up restriction enzymes – AbcI, whose recognition site is ANT```*```AAT, and AbcII, whose recognition site is GCRW```*```TG (asterisks indicate the position of the cut site)."
   ]
  },
  {
   "cell_type": "code",
   "execution_count": 10,
   "metadata": {},
   "outputs": [],
   "source": [
    "ABCI = r\"A[ATGC]TAAT\"\n",
    "ABCII = r\"GC[AG][AT]TG\""
   ]
  },
  {
   "cell_type": "code",
   "execution_count": 11,
   "metadata": {},
   "outputs": [
    {
     "name": "stdout",
     "output_type": "stream",
     "text": [
      "[2012, 1628, 1577, 1143, 488, 0]\n",
      "A predicted fragment length is: 384bp\n",
      "A predicted fragment length is: 51bp\n",
      "A predicted fragment length is: 434bp\n",
      "A predicted fragment length is: 655bp\n",
      "A predicted fragment length is: 488bp\n"
     ]
    }
   ],
   "source": [
    "dna = open(\"../ExerciseAnswers/regular_expressions/exercises/dna.txt\")\n",
    "dna_read = dna.read().rstrip(\"\\n\")\n",
    "\n",
    "x = re.finditer(ABCI, dna_read)\n",
    "y = re.finditer(ABCII, dna_read)\n",
    "total_list = []\n",
    "total_list.append(len(dna_read))\n",
    "total_list.append(0)\n",
    "\n",
    "for iterable in x:\n",
    "    startPos = iterable.start() + 3 \n",
    "    total_list.append(startPos)\n",
    "for iterable in y:\n",
    "    startPos = iterable.start() + 4\n",
    "    total_list.append(startPos)\n",
    "\n",
    "x = sorted(total_list)\n",
    "x.reverse()\n",
    "print(x)\n",
    "for pos in range(len(x)):\n",
    "    if pos < len(x)-1:\n",
    "        frag = x[pos] - x[pos+1]\n",
    "        print(\"A predicted fragment length is: \" + str(frag) + \"bp\")"
   ]
  },
  {
   "cell_type": "code",
   "execution_count": null,
   "metadata": {},
   "outputs": [],
   "source": []
  }
 ],
 "metadata": {
  "kernelspec": {
   "display_name": "Python 3",
   "language": "python",
   "name": "python3"
  },
  "language_info": {
   "codemirror_mode": {
    "name": "ipython",
    "version": 3
   },
   "file_extension": ".py",
   "mimetype": "text/x-python",
   "name": "python",
   "nbconvert_exporter": "python",
   "pygments_lexer": "ipython3",
   "version": "3.11.5"
  }
 },
 "nbformat": 4,
 "nbformat_minor": 2
}
