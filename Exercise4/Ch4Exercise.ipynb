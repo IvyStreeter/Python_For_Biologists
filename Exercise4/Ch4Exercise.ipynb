{
 "cells": [
  {
   "cell_type": "markdown",
   "metadata": {},
   "source": [
    "# Chapter 4\n",
    "Focuses on lists and loops"
   ]
  },
  {
   "cell_type": "markdown",
   "metadata": {},
   "source": [
    "# <b> Processing DNA in a file </b>\n",
    "\n",
    "The file input.txt contains a number of DNA sequences, one per line. Each sequence starts with the same 14 base pair fragment – a sequencing adapter that should have been removed. Write a program that will (a) trim this adapter and write the cleaned sequences to a new file and (b) print the length of each sequence to the screen.\n"
   ]
  },
  {
   "cell_type": "code",
   "execution_count": 1,
   "metadata": {},
   "outputs": [
    {
     "name": "stdout",
     "output_type": "stream",
     "text": [
      "42\n",
      "37\n",
      "48\n",
      "33\n",
      "47\n"
     ]
    }
   ],
   "source": [
    "# Open the contents of the file\n",
    "text_file = open(\"../ExerciseAnswers/lists_and_loops/exercises/input.txt\")\n",
    "read_file = text_file.read()\n",
    "\n",
    "# Text files end with a newline, strip the newline at the end\n",
    "# Also split the elements by newline into a list\n",
    "sequences = read_file.rstrip(\"\\n\").split(\"\\n\")\n",
    "\n",
    "# Write a file outside of the loop\n",
    "trimmed_sequences = open(\"trimmed.txt\", \"w\")\n",
    "\n",
    "# Add the contents of the list to the file starting at position 14\n",
    "for line in sequences:\n",
    "    trimmed_sequences.write(line[14:] + \"\\n\")\n",
    "    print(len(line[14:]))\n",
    "\n",
    "# Close file\n",
    "trimmed_sequences.close()"
   ]
  },
  {
   "cell_type": "markdown",
   "metadata": {},
   "source": [
    "# <b> Multiple exons from genomic DNA </b>\n",
    "\n",
    "The file genomic_dna.txt contains a section of genomic DNA, and the file exons.txt contains a list of start/stop positions of exons. Each exon is on a separate line and the start and stop positions are separated by a comma. Write a program that will extract the exon segments, concatenate them, and write them to a new file."
   ]
  },
  {
   "cell_type": "code",
   "execution_count": 2,
   "metadata": {},
   "outputs": [
    {
     "name": "stdout",
     "output_type": "stream",
     "text": [
      "CGTACCGTCGACGATGCTACGATCGTCGATCGTAGTCGATCATCGATCGATCG\n",
      "CGTACCGTCGACGATGCTACGATCGTCGATCGTAGTCGATCATCGATCGATCGCGATCGATCGATATCGATCGATATCATCGATGCATCGATCATCGATCGATCGATCGATCGA\n",
      "CGTACCGTCGACGATGCTACGATCGTCGATCGTAGTCGATCATCGATCGATCGCGATCGATCGATATCGATCGATATCATCGATGCATCGATCATCGATCGATCGATCGATCGACGATCGATCGATCGTAGCTAGCTAGCTAGATCGATCATCATCGTAGCTAGCTCGACTAGCTACGTACGATCGATGCATCGATCGTA\n",
      "CGTACCGTCGACGATGCTACGATCGTCGATCGTAGTCGATCATCGATCGATCGCGATCGATCGATATCGATCGATATCATCGATGCATCGATCATCGATCGATCGATCGATCGACGATCGATCGATCGTAGCTAGCTAGCTAGATCGATCATCATCGTAGCTAGCTCGACTAGCTACGTACGATCGATGCATCGATCGTACGATCGATCGATCGATCGATCGATCGATCGATCGATCGATCGTAGCTAGCTACGATCG\n"
     ]
    }
   ],
   "source": [
    "genomic = open(\"../ExerciseAnswers/lists_and_loops/exercises/genomic_dna.txt\")\n",
    "exon =  open(\"../ExerciseAnswers/lists_and_loops/exercises/exons.txt\")\n",
    "read_genomic = genomic.read()\n",
    "read_exon = exon.read()\n",
    "\n",
    "positions = read_exon.rstrip(\"\\n\").rsplit(\"\\n\")\n",
    "FinalSeq = \"\"\n",
    "\n",
    "for position in positions:\n",
    "    position = position.rsplit(\",\")\n",
    "    startPos = int(position[0])\n",
    "    endPos = int(position[1])\n",
    "    CodingSeq = read_genomic[startPos:endPos]\n",
    "    FinalSeq = FinalSeq + CodingSeq\n",
    "    print(FinalSeq)\n",
    "\n",
    "FinalSeq_file = open(\"FinalSeq.txt\", \"w\")\n",
    "FinalSeq_file.write(FinalSeq)\n",
    "FinalSeq_file.close()"
   ]
  }
 ],
 "metadata": {
  "kernelspec": {
   "display_name": "Python 3",
   "language": "python",
   "name": "python3"
  },
  "language_info": {
   "codemirror_mode": {
    "name": "ipython",
    "version": 3
   },
   "file_extension": ".py",
   "mimetype": "text/x-python",
   "name": "python",
   "nbconvert_exporter": "python",
   "pygments_lexer": "ipython3",
   "version": "3.11.5"
  }
 },
 "nbformat": 4,
 "nbformat_minor": 2
}
