{
 "cells": [
  {
   "cell_type": "markdown",
   "metadata": {},
   "source": [
    "# Exercise"
   ]
  },
  {
   "cell_type": "markdown",
   "metadata": {},
   "source": [
    "Exercises\n",
    "In the chapter_9 folder in the exercises download there is a collection of files with the extension .dna which contain DNA sequences of varying length, one per line. Use this set of files for both exercises.\n"
   ]
  },
  {
   "cell_type": "markdown",
   "metadata": {},
   "source": [
    "Binning DNA sequences\n",
    "Write a program which creates nine new folders – one for sequences between 100 and 199 bases long, one for sequences between 200 and 299 bases long, etc. Write out each DNA sequence in the input files to a separate file in the appropriate folder.\n"
   ]
  },
  {
   "cell_type": "code",
   "execution_count": 101,
   "metadata": {},
   "outputs": [],
   "source": [
    "import os\n",
    "import pandas as pd"
   ]
  },
  {
   "cell_type": "code",
   "execution_count": 102,
   "metadata": {},
   "outputs": [],
   "source": [
    "path = \"../ExerciseAnswers/working_with_the_filesystem/exercises\""
   ]
  },
  {
   "cell_type": "code",
   "execution_count": 103,
   "metadata": {},
   "outputs": [
    {
     "name": "stdout",
     "output_type": "stream",
     "text": [
      "                                                 Data\n",
      "0   actttagcatgggggcctcatcgacttgaatccttcttatcatcgg...\n",
      "1   tccgggggctttctttcgtgctgagtttatctccggtaagaacggg...\n",
      "2   cagacgcggaccccagcgtggaagtaatcacatgatcggatgaccg...\n",
      "3   cgtaaatgataacccacgtcctcattggctagctgtgattccatca...\n",
      "4   gaagctaaggcctgagtggcgccgatggttttccttcaagaaggct...\n",
      "..                                                ...\n",
      "95  gctgatacatatacgccactcgtagcatagtcgaccataggaaaat...\n",
      "96  aacgttactgacatggttagggctcaccccggaacagatggttaga...\n",
      "97  acctatcctagcaatctatctcctctgctcattcgtaaacatctgt...\n",
      "98  gtggtgtaatatctcggcttggcttgaatatcactagatagttctg...\n",
      "99  taattgcacacccccaaaaaaccgaagttctctcctggattgagca...\n",
      "\n",
      "[100 rows x 1 columns]\n"
     ]
    }
   ],
   "source": [
    "dflist = []\n",
    "\n",
    "for file in os.listdir(path):\n",
    "    if file.endswith('.dna'):\n",
    "        file_path = os.path.join(path, file)\n",
    "\n",
    "        with open(file_path, 'r') as x:\n",
    "            x_read = x.read().strip('\\n')\n",
    "            newline = x_read.split('\\n')\n",
    "        \n",
    "            for line in newline:\n",
    "                dflist.append(line)\n",
    "\n",
    "appended_data = pd.DataFrame(dflist, columns=['Data'])\n",
    "            #binned_data = pd.cut(appended_data, bins, right=False)\n",
    "print((appended_data))"
   ]
  },
  {
   "cell_type": "code",
   "execution_count": null,
   "metadata": {},
   "outputs": [],
   "source": [
    "bins = [100, 200, 300, 400, 500, 600, 700, 800, 900, 1000]\n",
    "labels = ['100', '200', '300', '400', '500', '600', '700', '800', '900']"
   ]
  },
  {
   "cell_type": "code",
   "execution_count": null,
   "metadata": {},
   "outputs": [],
   "source": []
  },
  {
   "cell_type": "markdown",
   "metadata": {},
   "source": [
    "Kmer counting\n",
    "Write a program that will calculate the number of all kmers of a given length across all DNA sequences in the input files and display just the ones that occur more than a given number of times. You program should take two command line arguments – the kmer length, and the cutoff number."
   ]
  },
  {
   "cell_type": "markdown",
   "metadata": {},
   "source": []
  }
 ],
 "metadata": {
  "kernelspec": {
   "display_name": "Python 3",
   "language": "python",
   "name": "python3"
  },
  "language_info": {
   "codemirror_mode": {
    "name": "ipython",
    "version": 3
   },
   "file_extension": ".py",
   "mimetype": "text/x-python",
   "name": "python",
   "nbconvert_exporter": "python",
   "pygments_lexer": "ipython3",
   "version": "3.11.5"
  }
 },
 "nbformat": 4,
 "nbformat_minor": 2
}
