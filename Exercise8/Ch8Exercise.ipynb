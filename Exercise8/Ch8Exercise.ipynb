{
 "cells": [
  {
   "cell_type": "markdown",
   "metadata": {},
   "source": [
    "# Dictionaries\n"
   ]
  },
  {
   "cell_type": "markdown",
   "metadata": {},
   "source": [
    "# <b> Exercises </b>\n",
    "## <b> DNA translation </b>\n",
    "Write a program that will translate a DNA sequence into protein. Your program should use the standard genetic code which can be found at this URL1."
   ]
  },
  {
   "cell_type": "code",
   "execution_count": 1,
   "metadata": {},
   "outputs": [
    {
     "name": "stdout",
     "output_type": "stream",
     "text": [
      "Data type before reconstruction :  <class 'str'>\n",
      "Data type after reconstruction :  <class 'dict'>\n",
      "{'ATA': 'I', 'ATC': 'I', 'ATT': 'I', 'ATG': 'M', 'ACA': 'T', 'ACC': 'T', 'ACG': 'T', 'ACT': 'T', 'AAC': 'N', 'AAT': 'N', 'AAA': 'K', 'AAG': 'K', 'AGC': 'S', 'AGT': 'S', 'AGA': 'R', 'AGG': 'R', 'CTA': 'L', 'CTC': 'L', 'CTG': 'L', 'CTT': 'L', 'CCA': 'P', 'CCC': 'P', 'CCG': 'P', 'CCT': 'P', 'CAC': 'H', 'CAT': 'H', 'CAA': 'Q', 'CAG': 'Q', 'CGA': 'R', 'CGC': 'R', 'CGG': 'R', 'CGT': 'R', 'GTA': 'V', 'GTC': 'V', 'GTG': 'V', 'GTT': 'V', 'GCA': 'A', 'GCC': 'A', 'GCG': 'A', 'GCT': 'A', 'GAC': 'D', 'GAT': 'D', 'GAA': 'E', 'GAG': 'E', 'GGA': 'G', 'GGC': 'G', 'GGG': 'G', 'GGT': 'G', 'TCA': 'S', 'TCC': 'S', 'TCG': 'S', 'TCT': 'S', 'TTC': 'F', 'TTT': 'F', 'TTA': 'L', 'TTG': 'L', 'TAC': 'Y', 'TAT': 'Y', 'TAA': '_', 'TAG': '_', 'TGC': 'C', 'TGT': 'C', 'TGA': '_', 'TGG': 'W'}\n"
     ]
    }
   ],
   "source": [
    "# importing the module \n",
    "import ast \n",
    "  \n",
    "# reading the data from the file \n",
    "with open(\"genetic_code.txt\") as f: \n",
    "    data = f.read() \n",
    "  \n",
    "print(\"Data type before reconstruction : \", type(data)) \n",
    "      \n",
    "# reconstructing the data as a dictionary \n",
    "d = ast.literal_eval(data) \n",
    "  \n",
    "print(\"Data type after reconstruction : \", type(d)) \n",
    "print(d) "
   ]
  },
  {
   "cell_type": "code",
   "execution_count": 2,
   "metadata": {},
   "outputs": [],
   "source": [
    "# Test DNA as example to use for translation\n",
    "dna = open(\"../ExerciseAnswers/regular_expressions/exercises/dna.txt\")\n",
    "dna_read = dna.read().rstrip(\"\\n\")"
   ]
  },
  {
   "cell_type": "code",
   "execution_count": 3,
   "metadata": {},
   "outputs": [
    {
     "data": {
      "text/plain": [
       "'MAITPRFYF_RRKVLT_ALPAQGPKKSPISYFRMTCVSLRVNHRPQFIEAWGNR_V_LA_ESKSWDHSVVTINLRWGFFGGFLQLPTRRFEVNQLRI_PRYPVISKLKHTVP_RLELLTGLFHACAIPPHSPAYPSERRQCDPPLRYSYV_RSYVFCRAGERVEHFTDGRDSGKGRIIGD_HRRRLRWRQLNRSSSALNNVLISTHSRQSTERLDYQRLSSSSNLLPAS__PPRD___LSAQN_DGADG_RTFGQPQFPTGQVLRCASL_MYKQPKWAEPGLSWFLRELETRDDSSLNIERGRRTVEKVIVPRVPTYSGYCLKLYYFRGGALKVSSSHD_TREGREVGSFNG_KTKAYCAQRNAHLAAGVLNARSPLSFRINPFPSFTSLRSLHWYMNAT_KRALKIGSG_CSKLHLVYSCITAIG_QRFNIE_QGTSGLNERPGKVRARYGRIKGPIERLLSHSLGGKCKTMVTASIHKTCPSVAQSVKCLSPLGPFPAYKRQVVSAFDATVDESASSAPHECCNVLHE_G_LRAVRCVAVLIVVDRPSRLENGTSIFGGSLTSMDCGVFTVLRLPIA_NPAGVKPSPLRDAACSETYTLHGFTAVRSESTKDTIELRSVPSTNLYPTPGACQLLGYHGACGSSRPISNFVMIKSPPREYQRR_LLSCA'"
      ]
     },
     "execution_count": 3,
     "metadata": {},
     "output_type": "execute_result"
    }
   ],
   "source": [
    "AminoChain = []\n",
    "translation = []\n",
    "\n",
    "for base in range(0, len(dna_read), 3):\n",
    "    if base < len(dna_read)-1:\n",
    "        AminoChain.append(dna_read[base:base+3])\n",
    "for amino in range(len(AminoChain)):\n",
    "    if amino < len(AminoChain)-1:\n",
    "        translation.append(d.get(AminoChain[amino]))\n",
    "\n",
    "''.join(translation)"
   ]
  }
 ],
 "metadata": {
  "kernelspec": {
   "display_name": "Python 3",
   "language": "python",
   "name": "python3"
  },
  "language_info": {
   "codemirror_mode": {
    "name": "ipython",
    "version": 3
   },
   "file_extension": ".py",
   "mimetype": "text/x-python",
   "name": "python",
   "nbconvert_exporter": "python",
   "pygments_lexer": "ipython3",
   "version": "3.11.5"
  }
 },
 "nbformat": 4,
 "nbformat_minor": 2
}
