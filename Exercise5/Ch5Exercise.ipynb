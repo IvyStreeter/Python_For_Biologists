{
 "cells": [
  {
   "cell_type": "markdown",
   "metadata": {},
   "source": [
    "# Chapter 5\n",
    "Focuses on writing functions\n",
    "\n",
    "Key points I learned:\n",
    "- have 1 purpose per function to make it flexible. For example calculate a number vs calculate and print a number\n",
    "- functions can be called with named arguments, which is clearer when there are multiple arguments\n",
    "- functions can have defaults"
   ]
  },
  {
   "cell_type": "markdown",
   "metadata": {},
   "source": [
    "# <b> Percentage of amino acid residues, part one </b>\n",
    "\n",
    "Write a function that takes two arguments : \n",
    "- a protein sequence and an amino acid residue code \n",
    "- and returns the percentage of the protein that the amino acid makes up. Use the following assertions to test your function:\n",
    "\n",
    "```\n",
    "assert my_function(\"MSRSLLLRFLLFLLLLPPLP\", \"M\") == 5\n",
    "assert my_function(\"MSRSLLLRFLLFLLLLPPLP\", \"r\") == 10\n",
    "assert my_function(\"MSRSLLLRFLLFLLLLPPLP\", \"L\") == 50\n",
    "assert my_function(\"MSRSLLLRFLLFLLLLPPLP\", \"Y\") == 0\n",
    "```\n",
    "\n",
    "<b> Reminder:</b> if you're using Python 2 rather than Python 3, include this line at the top of your program:"
   ]
  },
  {
   "cell_type": "code",
   "execution_count": 1,
   "metadata": {},
   "outputs": [],
   "source": [
    "def percent_aa(prot_sequence, residue):\n",
    "    percentage = (prot_sequence.upper().count(residue.upper()) / len(prot_sequence.upper()))*100\n",
    "    return(percentage)"
   ]
  },
  {
   "cell_type": "code",
   "execution_count": 2,
   "metadata": {},
   "outputs": [],
   "source": [
    "assert percent_aa(\"MSRSLLLRFLLFLLLLPPLP\", \"M\") == 5\n",
    "assert percent_aa(\"MSRSLLLRFLLFLLLLPPLP\", \"r\") == 10\n",
    "assert percent_aa(\"MSRSLLLRFLLFLLLLPPLP\", \"L\") == 50\n",
    "assert percent_aa(\"MSRSLLLRFLLFLLLLPPLP\", \"Y\") == 0"
   ]
  },
  {
   "cell_type": "markdown",
   "metadata": {},
   "source": [
    "# <b> Percentage of amino acid residues, part two </b>\n",
    "\n",
    "Modify the function from part one so that it accepts a list of amino acid residues rather than a single one. If no list is given, the function should return the percentage of hydrophobic amino acid residues (A, I, L, M, F, W, Y and V). Your function should pass the following assertions:\n",
    "```\n",
    "assert my_function(\"MSRSLLLRFLLFLLLLPPLP\", [\"M\"]) == 5\n",
    "assert my_function(\"MSRSLLLRFLLFLLLLPPLP\", ['M', 'L']) == 55\n",
    "assert my_function(\"MSRSLLLRFLLFLLLLPPLP\", ['F', 'S', 'L']) == 70\n",
    "assert my_function(\"MSRSLLLRFLLFLLLLPPLP\") == 65\n",
    "```\n"
   ]
  },
  {
   "cell_type": "code",
   "execution_count": 3,
   "metadata": {},
   "outputs": [],
   "source": [
    "example = \"MSRSLLLRFLLFLLLLPPLP\"\n",
    "\n",
    "def percent_aa(prot_sequence, residue_list=['A','I','L','M','F','W','Y','V'], sig_figs=2):\n",
    "    residue_total = 0\n",
    "    for residue in residue_list:\n",
    "        residue_count = prot_sequence.upper().count(residue.upper())\n",
    "        residue_total = residue_total + residue_count\n",
    "        percentage = (residue_total / len(prot_sequence.upper()))*100\n",
    "    return round(percentage, sig_figs)"
   ]
  },
  {
   "cell_type": "code",
   "execution_count": 4,
   "metadata": {},
   "outputs": [],
   "source": [
    "assert percent_aa(\"MSRSLLLRFLLFLLLLPPLP\", [\"M\"]) == 5\n",
    "assert percent_aa(\"MSRSLLLRFLLFLLLLPPLP\", ['M', 'L']) == 55\n",
    "assert percent_aa(\"MSRSLLLRFLLFLLLLPPLP\", ['F', 'S', 'L']) == 70\n",
    "assert percent_aa(\"MSRSLLLRFLLFLLLLPPLP\") == 65"
   ]
  }
 ],
 "metadata": {
  "kernelspec": {
   "display_name": "Python 3",
   "language": "python",
   "name": "python3"
  },
  "language_info": {
   "codemirror_mode": {
    "name": "ipython",
    "version": 3
   },
   "file_extension": ".py",
   "mimetype": "text/x-python",
   "name": "python",
   "nbconvert_exporter": "python",
   "pygments_lexer": "ipython3",
   "version": "3.11.5"
  }
 },
 "nbformat": 4,
 "nbformat_minor": 2
}
