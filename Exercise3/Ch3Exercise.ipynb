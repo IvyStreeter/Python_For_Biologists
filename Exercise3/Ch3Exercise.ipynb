{
 "cells": [
  {
   "cell_type": "markdown",
   "metadata": {},
   "source": [
    "# Chapter 3\n",
    "Focuses on reading and writing files"
   ]
  },
  {
   "cell_type": "markdown",
   "metadata": {},
   "source": [
    "# <b> Splitting genomic DNA </b>\n",
    "\n",
    "Look in the chapter_3 folder for a file called genomic_dna.txt – it contains the same piece of genomic DNA that we were using in the final exercise from chapter 2. Write a program that will split the genomic DNA into coding and non-coding parts, and write these sequences to two separate files.\n",
    "\n",
    "<b> Hint:</b> use your solution to the last exercise from chapter 2 as a starting point. \n"
   ]
  },
  {
   "cell_type": "code",
   "execution_count": 1,
   "metadata": {},
   "outputs": [],
   "source": [
    "my_file = open(\"../ExerciseAnswers/reading_files/exercises/genomic_dna.txt\")\n",
    "sequence = (my_file.read())\n",
    "my_file.close()\n",
    "\n",
    "exon1 = (sequence[0:62])\n",
    "intron = (sequence[62:90])\n",
    "exon2 = (sequence[90:]).rstrip(\"\\n\")\n",
    "\n",
    "coding_region = open(\"coding_region.txt\", \"w\")\n",
    "coding_region.write(exon1 + exon2)\n",
    "coding_region.close()\n",
    "\n",
    "non_coding_region = open(\"non-coding_region.txt\", \"w\")\n",
    "non_coding_region.write(intron)\n",
    "non_coding_region.close()"
   ]
  },
  {
   "cell_type": "markdown",
   "metadata": {},
   "source": [
    "# <b> Writing a FASTA file </b>\n",
    "\n",
    "FASTA file format is a commonly-used DNA and protein sequence file format. A single sequence in FASTA format looks like this:\n",
    "\n",
    "```\n",
    " >sequence_name\n",
    " ATCGACTGATCGATCGTACGAT\n",
    "```\n",
    "\n",
    "Where sequence_name is a header that describes the sequence (the greater-than symbol indicates the start of the header line). Often, the header contains an accession number that relates to the record for the sequence in a public sequence database. A single FASTA file can contain multiple sequences, like this:\n",
    "\n",
    "\n",
    "```\n",
    " >sequence_one\n",
    " ATCGATCGATCGATCGAT\n",
    " >sequence_two\n",
    " ACTAGCTAGCTAGCATCG\n",
    " >sequence_three\n",
    " ACTGCATCGATCGTACCT\n",
    "```\n",
    "\n",
    "Write a program that will create a FASTA file for the following three sequences – make sure that all sequences are in upper case and only contain the bases A, T, G and C.\n",
    "\n",
    "Sequence headers\n",
    "\n",
    "- ABC123\n",
    "- DEF456\n",
    "- HIJ789\n",
    "\n",
    "DNA sequences\n",
    "- ATCGTACGATCGATCGATCGCTAGACGTATCG\n",
    "- actgatcgacgatcgatcgatcacgact\n",
    "- ACTGAC-ACTGT--ACTGTA----CATGTG\n"
   ]
  },
  {
   "cell_type": "code",
   "execution_count": 2,
   "metadata": {},
   "outputs": [],
   "source": [
    "# Sequences\n",
    "ABC123 = \"ATCGTACGATCGATCGATCGCTAGACGTATCG\"\n",
    "DEF456 = \"actgatcgacgatcgatcgatcacgact\"\n",
    "HIJ789 = \"ACTGAC-ACTGT--ACTGTA----CATGTG\"\n",
    "\n",
    "DEF456 = DEF456.upper()\n",
    "HIJ789 = HIJ789.replace(\"-\", \"\")\n",
    "\n",
    "my_fasta = open(\"my_fasta.fasta\", \"w\")\n",
    "my_fasta.write(\">ABC123\" + \"\\n\" + str(ABC123) + \"\\n\")\n",
    "my_fasta.write(\">DEF456\" + \"\\n\" + str(DEF456) + \"\\n\")\n",
    "my_fasta.write(\">HIJ789\" + \"\\n\" + str(HIJ789) + \"\\n\")\n",
    "my_fasta.close()"
   ]
  },
  {
   "cell_type": "markdown",
   "metadata": {},
   "source": [
    "# <b> Writing multiple FASTA files </b>\n",
    "\n",
    "Use the data from the previous exercise, but instead of creating a single FASTA file, create three new FASTA files – one per sequence. The names of the FASTA files should be the same as the sequence header names, with the extension .fasta."
   ]
  },
  {
   "cell_type": "code",
   "execution_count": 3,
   "metadata": {},
   "outputs": [],
   "source": [
    "# Sequences\n",
    "ABC123 = \"ATCGTACGATCGATCGATCGCTAGACGTATCG\"\n",
    "DEF456 = \"actgatcgacgatcgatcgatcacgact\"\n",
    "HIJ789 = \"ACTGAC-ACTGT--ACTGTA----CATGTG\"\n",
    "\n",
    "# Clean the sequences\n",
    "DEF456 = DEF456.upper()\n",
    "HIJ789 = HIJ789.replace(\"-\", \"\")\n",
    "\n",
    "# Write each sequence to a file\n",
    "ABC123_fasta = open(\"ABC123.fasta\", \"w\")\n",
    "ABC123_fasta.write(\">ABC123\" + \"\\n\" + str(ABC123) + \"\\n\")\n",
    "ABC123_fasta.close()\n",
    "\n",
    "DEF456_fasta = open(\"DEF456.fasta\", \"w\")\n",
    "DEF456_fasta.write(\">DEF456\" + \"\\n\" + str(DEF456) +\"\\n\")\n",
    "DEF456_fasta.close()\n",
    "\n",
    "HIJ789_fasta = open(\"HIJ789.fasta\", \"w\")\n",
    "HIJ789_fasta.write(\">HIJ789\" + \"\\n\" + str(HIJ789) +\"\\n\")\n",
    "HIJ789_fasta.close()"
   ]
  },
  {
   "cell_type": "markdown",
   "metadata": {},
   "source": [
    "The answer to the problem set below is cleaner and better to read because each section is segmented and the change is where each file written.\n",
    "\n",
    "By creating variables to hold each section, the code is easier to read."
   ]
  },
  {
   "cell_type": "code",
   "execution_count": 2,
   "metadata": {},
   "outputs": [],
   "source": [
    "# set the values of all the header variables\n",
    "header_1 = \"ABC123\"\n",
    "header_2 = \"DEF456\"\n",
    "header_3 = \"HIJ789\"\n",
    "\n",
    "# set the values of all the sequence variables\n",
    "seq_1 = \"ATCGTACGATCGATCGATCGCTAGACGTATCG\"\n",
    "seq_2 = \"actgatcgacgatcgatcgatcacgact\"\n",
    "seq_3 = \"ACTGAC-ACTGT-ACTGTA----CATGTG\"\n",
    "\n",
    "# make three files to hold the output\n",
    "output_1 = open(header_1 + \".fasta\", \"w\")\n",
    "output_2 = open(header_2 + \".fasta\", \"w\")\n",
    "output_3 = open(header_3 + \".fasta\", \"w\")\n",
    "\n",
    "# write sequence 1 to output file 1\n",
    "output_1.write('>' + header_1 + '\\n' + seq_1 + '\\n')\n",
    "\n",
    "# write sequence 2 to output file 2\n",
    "output_2.write('>' + header_2 + '\\n' + seq_2.upper() + '\\n')\n",
    "\n",
    "# write sequence 3 to output file 3\n",
    "output_3.write('>' + header_3 + '\\n' + seq_3.replace('-', '') + '\\n')\n",
    "\n",
    "output_1.close()\n",
    "output_2.close()\n",
    "output_3.close()"
   ]
  }
 ],
 "metadata": {
  "kernelspec": {
   "display_name": "Python 3",
   "language": "python",
   "name": "python3"
  },
  "language_info": {
   "codemirror_mode": {
    "name": "ipython",
    "version": 3
   },
   "file_extension": ".py",
   "mimetype": "text/x-python",
   "name": "python",
   "nbconvert_exporter": "python",
   "pygments_lexer": "ipython3",
   "version": "3.11.5"
  }
 },
 "nbformat": 4,
 "nbformat_minor": 2
}
